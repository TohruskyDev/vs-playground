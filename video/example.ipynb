{
 "cells": [
  {
   "cell_type": "code",
   "execution_count": null,
   "id": "17dfeb4b-effc-4df2-a91b-65f06c28ed92",
   "metadata": {},
   "outputs": [],
   "source": [
    "%load_ext yuuno"
   ]
  },
  {
   "cell_type": "code",
   "execution_count": null,
   "id": "62c39acf-e5d6-425c-862c-168e00a83eb4",
   "metadata": {
    "scrolled": true
   },
   "outputs": [],
   "source": [
    "%%vspreview\n",
    "import vapoursynth as vs\n",
    "from vapoursynth import core\n",
    "\n",
    "from cccv import AutoModel, ConfigType, SRBaseModel\n",
    "\n",
    "model: SRBaseModel = AutoModel.from_pretrained(ConfigType.RealESRGAN_AnimeJaNai_HD_V3_Compact_2x, tile=None)\n",
    "\n",
    "clip = core.bs.VideoSource(source=\"s.mkv\", showprogress=False)\n",
    "clip = core.resize.Bicubic(clip=clip, matrix_in_s=\"709\", format=vs.RGBH)\n",
    "clip = model.inference_video(clip)\n",
    "clip = core.resize.Bicubic(clip=clip, matrix_s=\"709\", format=vs.YUV420P10)\n",
    "clip.set_output()"
   ]
  },
  {
   "cell_type": "code",
   "execution_count": null,
   "id": "4f49f10b-5c4f-43ea-8939-ff82a7aaab0e",
   "metadata": {},
   "outputs": [],
   "source": [
    "%%vspipe --y4m | ffmpeg -i - -vcodec libx265 -crf 16 encoded.mkv\n",
    "import vapoursynth as vs\n",
    "from vapoursynth import core\n",
    "\n",
    "from cccv import AutoModel, ConfigType, SRBaseModel\n",
    "\n",
    "model: SRBaseModel = AutoModel.from_pretrained(ConfigType.RealESRGAN_AnimeJaNai_HD_V3_Compact_2x, tile=None)\n",
    "\n",
    "clip = core.bs.VideoSource(source=\"s.mkv\", showprogress=False)\n",
    "clip = core.resize.Bicubic(clip=clip, matrix_in_s=\"709\", format=vs.RGBH)\n",
    "clip = model.inference_video(clip)\n",
    "clip = core.resize.Bicubic(clip=clip, matrix_s=\"709\", format=vs.YUV420P10)\n",
    "clip.set_output()"
   ]
  }
 ],
 "metadata": {
  "kernelspec": {
   "display_name": "Python 3 (ipykernel)",
   "language": "python",
   "name": "python3"
  },
  "language_info": {
   "codemirror_mode": {
    "name": "ipython",
    "version": 3
   },
   "file_extension": ".py",
   "mimetype": "text/x-python",
   "name": "python",
   "nbconvert_exporter": "python",
   "pygments_lexer": "ipython3",
   "version": "3.10.12"
  }
 },
 "nbformat": 4,
 "nbformat_minor": 5
}
